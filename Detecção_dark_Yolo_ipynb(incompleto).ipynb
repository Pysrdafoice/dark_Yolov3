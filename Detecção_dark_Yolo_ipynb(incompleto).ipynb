{
  "cells": [
    {
      "cell_type": "markdown",
      "metadata": {
        "id": "view-in-github",
        "colab_type": "text"
      },
      "source": [
        "<a href=\"https://colab.research.google.com/github/Pysrdafoice/dark_Yolov3/blob/main/Detec%C3%A7%C3%A3o_dark_Yolo_ipynb(incompleto).ipynb\" target=\"_parent\"><img src=\"https://colab.research.google.com/assets/colab-badge.svg\" alt=\"Open In Colab\"/></a>"
      ]
    },
    {
      "cell_type": "code",
      "execution_count": null,
      "metadata": {
        "id": "C1woIo6-o8oT"
      },
      "outputs": [],
      "source": [
        "import tensorflow as tf"
      ]
    },
    {
      "cell_type": "markdown",
      "metadata": {
        "id": "wLHHdzZh8e8L"
      },
      "source": [
        "###Carregar e treinar a rede Yolo no pacote Darknet utilizando uma pasta do COCO. vamos Utilizar o Yolov3\n"
      ]
    },
    {
      "cell_type": "markdown",
      "metadata": {
        "id": "TBR4hEWeH-qQ"
      },
      "source": [
        "##Vamos carregar cada pasta necessaria"
      ]
    },
    {
      "cell_type": "code",
      "execution_count": null,
      "metadata": {
        "colab": {
          "base_uri": "https://localhost:8080/"
        },
        "id": "5N8AY3RiDghV",
        "outputId": "7e579080-22db-4efb-af2f-d55a7454055d"
      },
      "outputs": [
        {
          "name": "stdout",
          "output_type": "stream",
          "text": [
            "Mounted at /content/drive\n"
          ]
        }
      ],
      "source": [
        "from google.colab import drive\n",
        "drive.mount('/content/drive')"
      ]
    },
    {
      "cell_type": "code",
      "execution_count": null,
      "metadata": {
        "colab": {
          "base_uri": "https://localhost:8080/"
        },
        "id": "MX_RnyLe5Lz9",
        "outputId": "75373f90-adde-49da-93e5-f600ad197d8e"
      },
      "outputs": [
        {
          "name": "stdout",
          "output_type": "stream",
          "text": [
            "Cloning into 'darknet'...\n",
            "remote: Enumerating objects: 10068, done.\u001b[K\n",
            "remote: Total 10068 (delta 0), reused 0 (delta 0), pack-reused 10068 (from 1)\u001b[K\n",
            "Receiving objects: 100% (10068/10068), 10.14 MiB | 10.30 MiB/s, done.\n",
            "Resolving deltas: 100% (6715/6715), done.\n",
            "/content/darknet\n",
            "/bin/bash: line 1: cd: darknet/: No such file or directory\n",
            "Branch 'feature/google-colab' set up to track remote branch 'feature/google-colab' from 'origin'.\n",
            "Switched to a new branch 'feature/google-colab'\n"
          ]
        }
      ],
      "source": [
        "!git clone https://github.com/kriyeng/darknet/\n",
        "%cd darknet\n",
        "\n",
        "!cd darknet/ ;git checkout feature/google-colab\n"
      ]
    },
    {
      "cell_type": "code",
      "execution_count": null,
      "metadata": {
        "colab": {
          "base_uri": "https://localhost:8080/"
        },
        "id": "zq44aLjn3PeW",
        "outputId": "0a8b9475-6fc7-44d3-ba32-fa85e2c82cae"
      },
      "outputs": [
        {
          "name": "stdout",
          "output_type": "stream",
          "text": [
            "/bin/bash: line 1: cd: darknet: No such file or directory\n",
            "mkdir -p obj\n",
            "mkdir -p backup\n",
            "mkdir -p results\n",
            "chmod +x *.sh\n",
            "g++ -std=c++11 -Iinclude/ -I3rdparty/stb/include -DOPENCV `pkg-config --cflags opencv` -DGPU -I/usr/local/cuda/include/ -DCUDNN -Wall -Wfatal-errors -Wno-unused-result -Wno-unknown-pragmas -fPIC -Ofast -DOPENCV -DGPU -DCUDNN -I/usr/local/cudnn/include -c ./src/image_opencv.cpp -o obj/image_opencv.o\n",
            "Package opencv was not found in the pkg-config search path.\n",
            "Perhaps you should add the directory containing `opencv.pc'\n",
            "to the PKG_CONFIG_PATH environment variable\n",
            "Package 'opencv', required by 'virtual:world', not found\n",
            "\u001b[01m\u001b[K./src/image_opencv.cpp:15:10:\u001b[m\u001b[K \u001b[01;31m\u001b[Kfatal error: \u001b[m\u001b[Kopencv2/core/version.hpp: No such file or directory\n",
            "   15 | #include \u001b[01;31m\u001b[K<opencv2/core/version.hpp>\u001b[m\u001b[K\n",
            "      |          \u001b[01;31m\u001b[K^~~~~~~~~~~~~~~~~~~~~~~~~~\u001b[m\u001b[K\n",
            "compilation terminated.\n",
            "make: *** [Makefile:149: obj/image_opencv.o] Error 1\n"
          ]
        }
      ],
      "source": [
        "!cd darknet; make -f ./Makefile\n"
      ]
    },
    {
      "cell_type": "code",
      "execution_count": null,
      "metadata": {
        "colab": {
          "base_uri": "https://localhost:8080/"
        },
        "id": "crGva-3PWzFR",
        "outputId": "f68dbca9-b90d-4f27-9640-f1feedc6846a"
      },
      "outputs": [
        {
          "name": "stdout",
          "output_type": "stream",
          "text": [
            "chmod: cannot access './darknet': No such file or directory\n"
          ]
        }
      ],
      "source": [
        "#dar permissão para o dark\n",
        "!chmod +x ./darknet"
      ]
    },
    {
      "cell_type": "code",
      "execution_count": null,
      "metadata": {
        "colab": {
          "base_uri": "https://localhost:8080/"
        },
        "id": "z9kJa7P_QH1i",
        "outputId": "cca19d4a-4559-486e-f72b-b91f841ddb02"
      },
      "outputs": [
        {
          "name": "stdout",
          "output_type": "stream",
          "text": [
            "/content/darknet\n"
          ]
        }
      ],
      "source": [
        "!pwd"
      ]
    },
    {
      "cell_type": "code",
      "execution_count": null,
      "metadata": {
        "colab": {
          "base_uri": "https://localhost:8080/"
        },
        "id": "enHzBW562IQn",
        "outputId": "86073e23-4fa4-411f-fc02-409940149eb6"
      },
      "outputs": [
        {
          "name": "stdout",
          "output_type": "stream",
          "text": [
            "\r0% [Working]\r            \rGet:1 https://cloud.r-project.org/bin/linux/ubuntu jammy-cran40/ InRelease [3,626 B]\n",
            "Get:2 https://developer.download.nvidia.com/compute/cuda/repos/ubuntu2204/x86_64  InRelease [1,581 B]\n",
            "Get:3 https://developer.download.nvidia.com/compute/cuda/repos/ubuntu2204/x86_64  Packages [1,200 kB]\n",
            "Hit:4 http://archive.ubuntu.com/ubuntu jammy InRelease\n",
            "Get:5 http://archive.ubuntu.com/ubuntu jammy-updates InRelease [128 kB]\n",
            "Get:6 http://security.ubuntu.com/ubuntu jammy-security InRelease [129 kB]\n",
            "Hit:7 https://ppa.launchpadcontent.net/deadsnakes/ppa/ubuntu jammy InRelease\n",
            "Get:8 https://r2u.stat.illinois.edu/ubuntu jammy InRelease [6,555 B]\n",
            "Hit:9 https://ppa.launchpadcontent.net/graphics-drivers/ppa/ubuntu jammy InRelease\n",
            "Get:10 http://archive.ubuntu.com/ubuntu jammy-backports InRelease [127 kB]\n",
            "Hit:11 https://ppa.launchpadcontent.net/ubuntugis/ppa/ubuntu jammy InRelease\n",
            "Get:12 https://r2u.stat.illinois.edu/ubuntu jammy/main amd64 Packages [2,639 kB]\n",
            "Get:13 http://archive.ubuntu.com/ubuntu jammy-updates/restricted amd64 Packages [3,663 kB]\n",
            "Get:14 http://security.ubuntu.com/ubuntu jammy-security/main amd64 Packages [2,560 kB]\n",
            "Get:15 http://archive.ubuntu.com/ubuntu jammy-updates/universe amd64 Packages [1,518 kB]\n",
            "Get:16 http://archive.ubuntu.com/ubuntu jammy-updates/main amd64 Packages [2,859 kB]\n",
            "Get:17 http://security.ubuntu.com/ubuntu jammy-security/restricted amd64 Packages [3,527 kB]\n",
            "Get:18 https://r2u.stat.illinois.edu/ubuntu jammy/main all Packages [8,584 kB]\n",
            "Get:19 http://security.ubuntu.com/ubuntu jammy-security/universe amd64 Packages [1,227 kB]\n",
            "Get:20 http://security.ubuntu.com/ubuntu jammy-security/multiverse amd64 Packages [45.2 kB]\n",
            "Fetched 28.2 MB in 4s (6,721 kB/s)\n",
            "Reading package lists... Done\n",
            "W: Skipping acquire of configured file 'main/source/Sources' as repository 'https://r2u.stat.illinois.edu/ubuntu jammy InRelease' does not seem to provide it (sources.list entry misspelt?)\n",
            "Reading package lists... Done\n",
            "Building dependency tree... Done\n",
            "Reading state information... Done\n",
            "build-essential is already the newest version (12.9ubuntu3).\n",
            "0 upgraded, 0 newly installed, 0 to remove and 51 not upgraded.\n",
            "Reading package lists... Done\n",
            "Building dependency tree... Done\n",
            "Reading state information... Done\n",
            "g++ is already the newest version (4:11.2.0-1ubuntu1).\n",
            "g++ set to manually installed.\n",
            "gcc is already the newest version (4:11.2.0-1ubuntu1).\n",
            "gcc set to manually installed.\n",
            "make is already the newest version (4.3-4.1build1).\n",
            "make set to manually installed.\n",
            "0 upgraded, 0 newly installed, 0 to remove and 51 not upgraded.\n"
          ]
        }
      ],
      "source": [
        "\n",
        "!sudo apt-get update\n",
        "!sudo apt-get install build-essential\n",
        "!sudo apt-get install gcc g++ make"
      ]
    },
    {
      "cell_type": "code",
      "execution_count": null,
      "metadata": {
        "colab": {
          "base_uri": "https://localhost:8080/"
        },
        "id": "FCQkL4I212RV",
        "outputId": "33a4462a-7134-4f73-b514-e257cbf6ca65"
      },
      "outputs": [
        {
          "name": "stdout",
          "output_type": "stream",
          "text": [
            "--2025-01-14 01:53:54--  https://raw.githubusercontent.com/AlexeyAB/darknet/master/cfg/yolov3-spp.cfg\n",
            "Resolving raw.githubusercontent.com (raw.githubusercontent.com)... 185.199.108.133, 185.199.109.133, 185.199.110.133, ...\n",
            "Connecting to raw.githubusercontent.com (raw.githubusercontent.com)|185.199.108.133|:443... connected.\n",
            "HTTP request sent, awaiting response... 200 OK\n",
            "Length: 8606 (8.4K) [text/plain]\n",
            "Saving to: ‘yolov3-spp.cfg’\n",
            "\n",
            "yolov3-spp.cfg      100%[===================>]   8.40K  --.-KB/s    in 0s      \n",
            "\n",
            "2025-01-14 01:53:54 (81.4 MB/s) - ‘yolov3-spp.cfg’ saved [8606/8606]\n",
            "\n"
          ]
        }
      ],
      "source": [
        "!wget https://raw.githubusercontent.com/AlexeyAB/darknet/master/cfg/yolov3-spp.cfg"
      ]
    },
    {
      "cell_type": "code",
      "execution_count": null,
      "metadata": {
        "colab": {
          "base_uri": "https://localhost:8080/"
        },
        "id": "qHIYJaiyFYoY",
        "outputId": "144c1569-8779-40ee-f8c3-0efdda9b3d6b"
      },
      "outputs": [
        {
          "name": "stdout",
          "output_type": "stream",
          "text": [
            "--2025-01-14 01:53:54--  https://pjreddie.com/media/files/yolov3.weights\n",
            "Resolving pjreddie.com (pjreddie.com)... 162.0.215.52\n",
            "Connecting to pjreddie.com (pjreddie.com)|162.0.215.52|:443... connected.\n",
            "HTTP request sent, awaiting response... 200 OK\n",
            "Length: 248007048 (237M) [application/octet-stream]\n",
            "Saving to: ‘yolov3.weights’\n",
            "\n",
            "yolov3.weights      100%[===================>] 236.52M  14.6MB/s    in 18s     \n",
            "\n",
            "2025-01-14 01:54:13 (13.4 MB/s) - ‘yolov3.weights’ saved [248007048/248007048]\n",
            "\n"
          ]
        }
      ],
      "source": [
        "!wget https://pjreddie.com/media/files/yolov3.weights\n"
      ]
    },
    {
      "cell_type": "code",
      "execution_count": null,
      "metadata": {
        "id": "4LlJ3Q_TBv2n"
      },
      "outputs": [],
      "source": [
        "#download files\n",
        "def imShow(path):\n",
        "  import cv2\n",
        "  import matplotlib.pyplot as plt\n",
        "  %matplotlib inline\n",
        "\n",
        "  image = cv2.imread(path)\n",
        "  height, width = image.shape[:2]\n",
        "  resized_image = cv2.resize(image,(3*width, 3*height), interpolation = cv2.INTER_CUBIC)\n",
        "\n",
        "  fig = plt.gcf()\n",
        "  fig.set_size_inches(18, 10)\n",
        "  plt.axis(\"off\")\n",
        "  #plt.rcParams['figure.figsize'] = [10, 5]\n",
        "  plt.imshow(cv2.cvtColor(resized_image, cv2.COLOR_BGR2RGB))\n",
        "  plt.show()\n",
        "\n",
        "\n",
        "def upload():\n",
        "  from google.colab import files\n",
        "  uploaded = files.upload()\n",
        "  for name, data in uploaded.items():\n",
        "    with open(name, 'wb') as f:\n",
        "      f.write(data)\n",
        "      print ('saved file', name)\n",
        "def download(path):\n",
        "  from google.colab import files\n",
        "  files.download(path)"
      ]
    },
    {
      "cell_type": "code",
      "execution_count": null,
      "metadata": {
        "colab": {
          "base_uri": "https://localhost:8080/"
        },
        "id": "l5UIPA6P6gjH",
        "outputId": "3e568390-2647-490e-d899-278e49b6801a"
      },
      "outputs": [
        {
          "name": "stdout",
          "output_type": "stream",
          "text": [
            "/bin/bash: line 1: ./darknet: No such file or directory\n"
          ]
        }
      ],
      "source": [
        "# Execute darknet using YOLOv3 model with pre-trained weights to detect objects on 'person.jpg'\n",
        "!./darknet detect cfg/yolov3.cfg yolov3.weights/content/darknet/data/person.jpg -dont-show\n"
      ]
    },
    {
      "cell_type": "code",
      "execution_count": null,
      "metadata": {
        "colab": {
          "base_uri": "https://localhost:8080/"
        },
        "id": "Zo4mM6kFD22v",
        "outputId": "fdbbd244-299a-45a8-c67d-4bba58320105"
      },
      "outputs": [
        {
          "name": "stdout",
          "output_type": "stream",
          "text": [
            "/bin/bash: line 1: cd: darknet/: No such file or directory\n"
          ]
        }
      ],
      "source": [
        "!cd darknet/"
      ]
    },
    {
      "cell_type": "code",
      "execution_count": null,
      "metadata": {
        "id": "Im5LoNidCXhE"
      },
      "outputs": [],
      "source": [
        "!rm -rf darknet\n"
      ]
    },
    {
      "cell_type": "code",
      "execution_count": null,
      "metadata": {
        "colab": {
          "base_uri": "https://localhost:8080/"
        },
        "id": "89qFcMgDSlya",
        "outputId": "701d118d-14ee-4614-a8d4-59f53d420cdc"
      },
      "outputs": [
        {
          "name": "stdout",
          "output_type": "stream",
          "text": [
            "/bin/bash: line 1: cd: darknet: No such file or directory\n",
            "/bin/bash: line 1: cd: darknet: No such file or directory\n",
            "/bin/bash: line 1: cd: darknet: No such file or directory\n",
            "/bin/bash: line 1: cd: darknet: No such file or directory\n"
          ]
        }
      ],
      "source": [
        "!cd darknet && sed -i 's/OPENCV=0/OPENCV=1/' Makefile\n",
        "!cd darknet && sed -i 's/GPU=0/GPU=1/' Makefile\n",
        "!cd darknet && sed -i 's/CUDNN=0/CUDNN=1/' Makefile\n",
        "!cd darknet && make\n"
      ]
    },
    {
      "cell_type": "code",
      "execution_count": null,
      "metadata": {
        "colab": {
          "base_uri": "https://localhost:8080/"
        },
        "id": "J9cyhY66KMgL",
        "outputId": "05715884-312f-4653-dfa3-88bbf025d116"
      },
      "outputs": [
        {
          "name": "stdout",
          "output_type": "stream",
          "text": [
            "Cloning into 'cocoapi'...\n",
            "remote: Enumerating objects: 975, done.\u001b[K\n",
            "remote: Total 975 (delta 0), reused 0 (delta 0), pack-reused 975 (from 1)\u001b[K\n",
            "Receiving objects: 100% (975/975), 11.72 MiB | 12.96 MiB/s, done.\n",
            "Resolving deltas: 100% (576/576), done.\n",
            "Obtaining file:///content/darknet\n",
            "\u001b[31mERROR: file:///content/darknet does not appear to be a Python project: neither 'setup.py' nor 'pyproject.toml' found.\u001b[0m\u001b[31m\n",
            "\u001b[0m"
          ]
        }
      ],
      "source": [
        "!git clone https://github.com/cocodataset/cocoapi.git\n",
        "!pip install -e .\n"
      ]
    },
    {
      "cell_type": "code",
      "execution_count": null,
      "metadata": {
        "colab": {
          "base_uri": "https://localhost:8080/"
        },
        "id": "nirCLje9CvFp",
        "outputId": "aa84b143-aaa1-4efa-cfd0-2976bd15340d"
      },
      "outputs": [
        {
          "name": "stdout",
          "output_type": "stream",
          "text": [
            "3rdparty      cmake\t\t      data\t\t     net_cam_v3.sh  video_yolov3.sh\n",
            "appveyor.yml  CMakeLists.txt\t      image_yolov2.sh\t     obj\t    yolov3-spp.cfg\n",
            "backup\t      CMakeSettings.json      image_yolov3.sh\t     README.md\t    yolov3.weights\n",
            "build\t      cocoapi\t\t      include\t\t     results\n",
            "build.ps1     DarknetConfig.cmake.in  json_mjpeg_streams.sh  scripts\n",
            "build.sh      darknet.py\t      LICENSE\t\t     src\n",
            "cfg\t      darknet_video.py\t      Makefile\t\t     video_v2.sh\n"
          ]
        }
      ],
      "source": [
        "!ls"
      ]
    },
    {
      "cell_type": "code",
      "execution_count": null,
      "metadata": {
        "id": "bAEjWYy4KaMD"
      },
      "outputs": [],
      "source": [
        "!cd cocoapi/PythonAPI\n"
      ]
    },
    {
      "cell_type": "code",
      "execution_count": null,
      "metadata": {
        "id": "t06k5ASnYUCM"
      },
      "outputs": [],
      "source": [
        "!mkdir -p data/coco/train2014\n",
        "!mkdir -p data/coco/val2014\n",
        "\n",
        "\n"
      ]
    },
    {
      "cell_type": "code",
      "execution_count": null,
      "metadata": {
        "colab": {
          "background_save": true,
          "base_uri": "https://localhost:8080/"
        },
        "id": "pWCutam8H2P-",
        "outputId": "d8c512fa-6f78-470e-b293-d6f01d3ce231"
      },
      "outputs": [
        {
          "name": "stdout",
          "output_type": "stream",
          "text": [
            "--2025-01-14 01:54:16--  http://images.cocodataset.org/zips/val2014.zip\n",
            "Resolving images.cocodataset.org (images.cocodataset.org)... 16.15.184.98, 52.216.48.57, 52.217.12.220, ...\n",
            "Connecting to images.cocodataset.org (images.cocodataset.org)|16.15.184.98|:80... connected.\n",
            "HTTP request sent, awaiting response... 200 OK\n",
            "Length: 6645013297 (6.2G) [application/zip]\n",
            "Saving to: ‘val2014.zip’\n",
            "\n",
            "val2014.zip         100%[===================>]   6.19G  15.7MB/s    in 6m 28s  \n",
            "\n",
            "2025-01-14 02:00:45 (16.3 MB/s) - ‘val2014.zip’ saved [6645013297/6645013297]\n",
            "\n",
            "--2025-01-14 02:00:45--  http://images.cocodataset.org/zips/train2014.zip\n",
            "Resolving images.cocodataset.org (images.cocodataset.org)... 3.5.25.120, 3.5.17.230, 3.5.29.19, ...\n",
            "Connecting to images.cocodataset.org (images.cocodataset.org)|3.5.25.120|:80... connected.\n",
            "HTTP request sent, awaiting response... 200 OK\n",
            "Length: 13510573713 (13G) [application/zip]\n",
            "Saving to: ‘train2014.zip’\n",
            "\n",
            "train2014.zip       100%[===================>]  12.58G  16.9MB/s    in 14m 1s  \n",
            "\n",
            "2025-01-14 02:14:47 (15.3 MB/s) - ‘train2014.zip’ saved [13510573713/13510573713]\n",
            "\n"
          ]
        }
      ],
      "source": [
        "from pycocotools.coco import COCO\n",
        "\n",
        "# Caminho para o arquivo de anotações\n",
        "!wget http://images.cocodataset.org/zips/val2014.zip\n",
        "!wget http://images.cocodataset.org/zips/train2014.zip\n",
        "#!wget http://images.cocodataset.org/annotations/annotations_trainval2014.zip\n",
        "#!wget http://images.cocodataset.org/annotations/image_info_test2014.zip\n",
        "\n"
      ]
    },
    {
      "cell_type": "code",
      "execution_count": null,
      "metadata": {
        "id": "4rd1C0JRrzAm"
      },
      "outputs": [],
      "source": [
        "import os\n",
        "\n",
        "# Definir os caminhos base para as pastas\n",
        "base_path = \"/content/data/coco\"  # Caminho onde os dados estão\n",
        "train_dir = os.path.join(base_path, \"train2014\")  # Pasta de treinamento\n",
        "val_dir = os.path.join(base_path, \"val2014\")  # Pasta de validação\n",
        "\n",
        "# Garantir que as pastas existem (se não existirem, criar)\n",
        "if not os.path.exists(train_dir):\n",
        "    os.makedirs(train_dir)\n",
        "\n",
        "if not os.path.exists(val_dir):\n",
        "    os.makedirs(val_dir)\n",
        "\n",
        "# Descompactar os arquivos zip para as pastas corretas\n",
        "print(\"Descompactando os arquivos ZIP...\")\n",
        "!unzip train2014.zip -d {train_dir}  # Extrai o ZIP do treinamento\n",
        "!unzip val2014.zip -d {val_dir}  # Extrai o ZIP da validação\n",
        "print(\"Descompactação concluída!\")\n",
        "\n",
        "# Listar os arquivos dentro das pastas\n",
        "print(\"Listando os arquivos de treinamento...\")\n",
        "train_images = []\n",
        "for img in os.listdir(train_dir):  # Percorrer todos os itens na pasta\n",
        "    if os.path.isfile(os.path.join(train_dir, img)):  # Verificar se é um arquivo\n",
        "        train_images.append(os.path.join(train_dir, img))  # Adicionar à lista\n",
        "\n",
        "print(\"Listando os arquivos de validação...\")\n",
        "val_images = []\n",
        "for img in os.listdir(val_dir):  # Percorrer todos os itens na pasta\n",
        "    if os.path.isfile(os.path.join(val_dir, img)):  # Verificar se é um arquivo\n",
        "        val_images.append(os.path.join(val_dir, img))  # Adicionar à lista\n",
        "\n",
        "# Mostrar os primeiros arquivos para conferir\n",
        "print(\"Primeiros arquivos de treinamento:\", train_images[:5])\n",
        "print(\"Primeiros arquivos de validação:\", val_images[:5])\n",
        "\n"
      ]
    },
    {
      "cell_type": "markdown",
      "metadata": {
        "id": "7jJ98cEk_F7Z"
      },
      "source": [
        "##Depois de configurar e arrumar as pastas manualmente, vamos treinar o modelo"
      ]
    },
    {
      "cell_type": "code",
      "execution_count": null,
      "metadata": {
        "colab": {
          "background_save": true
        },
        "id": "y1UkPbzTsCIF"
      },
      "outputs": [],
      "source": [
        "#treinar o modelo utilizando darknetyolov3\n",
        "!cd darknet && ./darknet detector train data/coco.data cfg/yolov3.cfg yolov3.weights -dont_show\n"
      ]
    },
    {
      "cell_type": "code",
      "execution_count": null,
      "metadata": {
        "id": "6KdMFiYov_Rf"
      },
      "outputs": [],
      "source": [
        "#ver resultado\n",
        "!tail -n 50 log.txt\n"
      ]
    },
    {
      "cell_type": "code",
      "execution_count": null,
      "metadata": {
        "id": "mzJUdocZwXwl"
      },
      "outputs": [],
      "source": [
        "#avaliar o modelo\n",
        "!cd darknet && ./darknet detector map data/coco.data cfg/yolov3.cfg backup/yolov3_final.weights\n"
      ]
    },
    {
      "cell_type": "code",
      "execution_count": null,
      "metadata": {
        "id": "B62Gv2yBwj1o"
      },
      "outputs": [],
      "source": [
        "#inferencia do modelo\n",
        "!cd darknet && ./darknet detector test data/coco.data cfg/yolov3.cfg backup/yolov3_final.weights path/to/image.jpg\n"
      ]
    }
  ],
  "metadata": {
    "accelerator": "GPU",
    "colab": {
      "cell_execution_strategy": "setup",
      "gpuType": "T4",
      "provenance": [],
      "authorship_tag": "ABX9TyP7xRaVUAJZJUBzqvlUVbK4",
      "include_colab_link": true
    },
    "kernelspec": {
      "display_name": "Python 3",
      "name": "python3"
    },
    "language_info": {
      "name": "python"
    }
  },
  "nbformat": 4,
  "nbformat_minor": 0
}