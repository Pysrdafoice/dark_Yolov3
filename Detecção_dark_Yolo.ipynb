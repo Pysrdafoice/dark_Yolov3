{
  "nbformat": 4,
  "nbformat_minor": 0,
  "metadata": {
    "colab": {
      "provenance": [],
      "authorship_tag": "ABX9TyOTOdVYl480T2yaj0VC7Hct",
      "include_colab_link": true
    },
    "kernelspec": {
      "name": "python3",
      "display_name": "Python 3"
    },
    "language_info": {
      "name": "python"
    }
  },
  "cells": [
    {
      "cell_type": "markdown",
      "metadata": {
        "id": "view-in-github",
        "colab_type": "text"
      },
      "source": [
        "<a href=\"https://colab.research.google.com/github/Pysrdafoice/dark_Yolov3/blob/main/Detec%C3%A7%C3%A3o_dark_Yolo.ipynb\" target=\"_parent\"><img src=\"https://colab.research.google.com/assets/colab-badge.svg\" alt=\"Open In Colab\"/></a>"
      ]
    },
    {
      "cell_type": "code",
      "source": [
        "import tensorflow as tf"
      ],
      "metadata": {
        "id": "C1woIo6-o8oT"
      },
      "execution_count": null,
      "outputs": []
    },
    {
      "cell_type": "markdown",
      "source": [
        "###Carregar e treinar a rede Yolo no pacote Darknet utilizando uma pasta do COCO. vamos Utilizar o Yolov3\n"
      ],
      "metadata": {
        "id": "wLHHdzZh8e8L"
      }
    },
    {
      "cell_type": "markdown",
      "source": [
        "##Vamos carregar cada pasta necessaria"
      ],
      "metadata": {
        "id": "TBR4hEWeH-qQ"
      }
    },
    {
      "cell_type": "code",
      "source": [
        "from google.colab import drive\n",
        "drive.mount('/content/drive')"
      ],
      "metadata": {
        "colab": {
          "base_uri": "https://localhost:8080/"
        },
        "id": "5N8AY3RiDghV",
        "outputId": "0964f558-9c4b-4133-9171-f3be70ca63ac"
      },
      "execution_count": null,
      "outputs": [
        {
          "output_type": "stream",
          "name": "stdout",
          "text": [
            "Mounted at /content/drive\n"
          ]
        }
      ]
    },
    {
      "cell_type": "code",
      "source": [
        "!git checkout feature/google-colab\n"
      ],
      "metadata": {
        "colab": {
          "base_uri": "https://localhost:8080/"
        },
        "id": "TfwQbKo5FVDq",
        "outputId": "4d82868e-f1ac-452e-f351-a7c79b83e3e2"
      },
      "execution_count": null,
      "outputs": [
        {
          "output_type": "stream",
          "name": "stdout",
          "text": [
            "fatal: not a git repository (or any of the parent directories): .git\n"
          ]
        }
      ]
    },
    {
      "cell_type": "code",
      "source": [
        "!git clone https://github.com/pjreddie/darknet\n",
        "!cd darknet\n",
        "!make"
      ],
      "metadata": {
        "colab": {
          "base_uri": "https://localhost:8080/"
        },
        "id": "MX_RnyLe5Lz9",
        "outputId": "2349091e-2921-420c-ec2c-5cbde806e4e4"
      },
      "execution_count": null,
      "outputs": [
        {
          "output_type": "stream",
          "name": "stdout",
          "text": [
            "Cloning into 'darknet'...\n",
            "remote: Enumerating objects: 5955, done.\u001b[K\n",
            "remote: Total 5955 (delta 0), reused 0 (delta 0), pack-reused 5955 (from 1)\u001b[K\n",
            "Receiving objects: 100% (5955/5955), 6.37 MiB | 10.44 MiB/s, done.\n",
            "Resolving deltas: 100% (3931/3931), done.\n",
            "make: *** No targets specified and no makefile found.  Stop.\n"
          ]
        }
      ]
    },
    {
      "cell_type": "code",
      "source": [
        "!wget https://raw.githubusercontent.com/AlexeyAB/darknet/master/cfg/yolov3-spp.cfg"
      ],
      "metadata": {
        "colab": {
          "base_uri": "https://localhost:8080/"
        },
        "id": "FCQkL4I212RV",
        "outputId": "b79bd0c8-97cc-45dc-9ae6-6066c85538cd"
      },
      "execution_count": null,
      "outputs": [
        {
          "output_type": "stream",
          "name": "stdout",
          "text": [
            "--2025-01-11 17:54:06--  https://raw.githubusercontent.com/AlexeyAB/darknet/master/cfg/yolov3-spp.cfg\n",
            "Resolving raw.githubusercontent.com (raw.githubusercontent.com)... 185.199.108.133, 185.199.109.133, 185.199.110.133, ...\n",
            "Connecting to raw.githubusercontent.com (raw.githubusercontent.com)|185.199.108.133|:443... connected.\n",
            "HTTP request sent, awaiting response... 200 OK\n",
            "Length: 8606 (8.4K) [text/plain]\n",
            "Saving to: ‘yolov3-spp.cfg’\n",
            "\n",
            "yolov3-spp.cfg      100%[===================>]   8.40K  --.-KB/s    in 0s      \n",
            "\n",
            "2025-01-11 17:54:07 (74.7 MB/s) - ‘yolov3-spp.cfg’ saved [8606/8606]\n",
            "\n"
          ]
        }
      ]
    },
    {
      "cell_type": "code",
      "source": [
        "!wget https://pjreddie.com/media/files/yolov3.weights\n"
      ],
      "metadata": {
        "colab": {
          "base_uri": "https://localhost:8080/"
        },
        "id": "qHIYJaiyFYoY",
        "outputId": "e9b175bf-25b1-4490-a168-4b1bb521352d"
      },
      "execution_count": null,
      "outputs": [
        {
          "output_type": "stream",
          "name": "stdout",
          "text": [
            "--2025-01-11 17:54:07--  https://pjreddie.com/media/files/yolov3.weights\n",
            "Resolving pjreddie.com (pjreddie.com)... 162.0.215.52\n",
            "Connecting to pjreddie.com (pjreddie.com)|162.0.215.52|:443... connected.\n",
            "HTTP request sent, awaiting response... 200 OK\n",
            "Length: 248007048 (237M) [application/octet-stream]\n",
            "Saving to: ‘yolov3.weights’\n",
            "\n",
            "yolov3.weights      100%[===================>] 236.52M  12.4MB/s    in 16s     \n",
            "\n",
            "2025-01-11 17:54:23 (15.1 MB/s) - ‘yolov3.weights’ saved [248007048/248007048]\n",
            "\n"
          ]
        }
      ]
    },
    {
      "cell_type": "code",
      "source": [
        "!cd darknet/"
      ],
      "metadata": {
        "id": "Zo4mM6kFD22v"
      },
      "execution_count": null,
      "outputs": []
    },
    {
      "cell_type": "code",
      "source": [
        "!cd darknet && sed -i 's/OPENCV=0/OPENCV=1/' Makefile\n",
        "!cd darknet && sed -i 's/GPU=0/GPU=1/' Makefile\n",
        "!cd darknet && sed -i 's/CUDNN=0/CUDNN=1/' Makefile\n",
        "!cd darknet && make\n"
      ],
      "metadata": {
        "colab": {
          "base_uri": "https://localhost:8080/"
        },
        "id": "89qFcMgDSlya",
        "outputId": "a2f2f712-018c-46b2-ea7c-f2b8cab6fe5c"
      },
      "execution_count": null,
      "outputs": [
        {
          "output_type": "stream",
          "name": "stdout",
          "text": [
            "mkdir -p obj\n",
            "mkdir -p backup\n",
            "mkdir -p results\n",
            "gcc -Iinclude/ -Isrc/ -DOPENCV `pkg-config --cflags opencv`  -DGPU -I/usr/local/cuda/include/ -DCUDNN  -Wall -Wno-unused-result -Wno-unknown-pragmas -Wfatal-errors -fPIC -Ofast -DOPENCV -DGPU -DCUDNN -c ./src/gemm.c -o obj/gemm.o\n",
            "Package opencv was not found in the pkg-config search path.\n",
            "Perhaps you should add the directory containing `opencv.pc'\n",
            "to the PKG_CONFIG_PATH environment variable\n",
            "Package 'opencv', required by 'virtual:world', not found\n",
            "\u001b[01m\u001b[K./src/gemm.c:\u001b[m\u001b[K In function ‘\u001b[01m\u001b[Ktime_gpu\u001b[m\u001b[K’:\n",
            "\u001b[01m\u001b[K./src/gemm.c:232:9:\u001b[m\u001b[K \u001b[01;35m\u001b[Kwarning: \u001b[m\u001b[K‘\u001b[01m\u001b[KcudaThreadSynchronize\u001b[m\u001b[K’ is deprecated [\u001b[01;35m\u001b[K\u001b]8;;https://gcc.gnu.org/onlinedocs/gcc/Warning-Options.html#index-Wdeprecated-declarations\u0007-Wdeprecated-declarations\u001b]8;;\u0007\u001b[m\u001b[K]\n",
            "  232 |         \u001b[01;35m\u001b[KcudaThreadSynchronize\u001b[m\u001b[K();\n",
            "      |         \u001b[01;35m\u001b[K^~~~~~~~~~~~~~~~~~~~~\u001b[m\u001b[K\n",
            "In file included from \u001b[01m\u001b[K/usr/local/cuda/include/cuda_runtime.h:95\u001b[m\u001b[K,\n",
            "                 from \u001b[01m\u001b[Kinclude/darknet.h:11\u001b[m\u001b[K,\n",
            "                 from \u001b[01m\u001b[K./src/utils.h:5\u001b[m\u001b[K,\n",
            "                 from \u001b[01m\u001b[K./src/gemm.c:2\u001b[m\u001b[K:\n",
            "\u001b[01m\u001b[K/usr/local/cuda/include/cuda_runtime_api.h:1069:57:\u001b[m\u001b[K \u001b[01;36m\u001b[Knote: \u001b[m\u001b[Kdeclared here\n",
            " 1069 | extern __CUDA_DEPRECATED __host__ cudaError_t CUDARTAPI \u001b[01;36m\u001b[KcudaThreadSynchronize\u001b[m\u001b[K(void);\n",
            "      |                                                         \u001b[01;36m\u001b[K^~~~~~~~~~~~~~~~~~~~~\u001b[m\u001b[K\n",
            "gcc -Iinclude/ -Isrc/ -DOPENCV `pkg-config --cflags opencv`  -DGPU -I/usr/local/cuda/include/ -DCUDNN  -Wall -Wno-unused-result -Wno-unknown-pragmas -Wfatal-errors -fPIC -Ofast -DOPENCV -DGPU -DCUDNN -c ./src/utils.c -o obj/utils.o\n",
            "Package opencv was not found in the pkg-config search path.\n",
            "Perhaps you should add the directory containing `opencv.pc'\n",
            "to the PKG_CONFIG_PATH environment variable\n",
            "Package 'opencv', required by 'virtual:world', not found\n",
            "gcc -Iinclude/ -Isrc/ -DOPENCV `pkg-config --cflags opencv`  -DGPU -I/usr/local/cuda/include/ -DCUDNN  -Wall -Wno-unused-result -Wno-unknown-pragmas -Wfatal-errors -fPIC -Ofast -DOPENCV -DGPU -DCUDNN -c ./src/cuda.c -o obj/cuda.o\n",
            "Package opencv was not found in the pkg-config search path.\n",
            "Perhaps you should add the directory containing `opencv.pc'\n",
            "to the PKG_CONFIG_PATH environment variable\n",
            "Package 'opencv', required by 'virtual:world', not found\n",
            "gcc -Iinclude/ -Isrc/ -DOPENCV `pkg-config --cflags opencv`  -DGPU -I/usr/local/cuda/include/ -DCUDNN  -Wall -Wno-unused-result -Wno-unknown-pragmas -Wfatal-errors -fPIC -Ofast -DOPENCV -DGPU -DCUDNN -c ./src/deconvolutional_layer.c -o obj/deconvolutional_layer.o\n",
            "Package opencv was not found in the pkg-config search path.\n",
            "Perhaps you should add the directory containing `opencv.pc'\n",
            "to the PKG_CONFIG_PATH environment variable\n",
            "Package 'opencv', required by 'virtual:world', not found\n",
            "gcc -Iinclude/ -Isrc/ -DOPENCV `pkg-config --cflags opencv`  -DGPU -I/usr/local/cuda/include/ -DCUDNN  -Wall -Wno-unused-result -Wno-unknown-pragmas -Wfatal-errors -fPIC -Ofast -DOPENCV -DGPU -DCUDNN -c ./src/convolutional_layer.c -o obj/convolutional_layer.o\n",
            "Package opencv was not found in the pkg-config search path.\n",
            "Perhaps you should add the directory containing `opencv.pc'\n",
            "to the PKG_CONFIG_PATH environment variable\n",
            "Package 'opencv', required by 'virtual:world', not found\n",
            "\u001b[01m\u001b[K./src/convolutional_layer.c:\u001b[m\u001b[K In function ‘\u001b[01m\u001b[Kcudnn_convolutional_setup\u001b[m\u001b[K’:\n",
            "\u001b[01m\u001b[K./src/convolutional_layer.c:148:5:\u001b[m\u001b[K \u001b[01;35m\u001b[Kwarning: \u001b[m\u001b[Kimplicit declaration of function ‘\u001b[01m\u001b[KcudnnGetConvolutionForwardAlgorithm\u001b[m\u001b[K’; did you mean ‘\u001b[01m\u001b[KcudnnGetConvolutionForwardAlgorithm_v7\u001b[m\u001b[K’? [\u001b[01;35m\u001b[K\u001b]8;;https://gcc.gnu.org/onlinedocs/gcc/Warning-Options.html#index-Wimplicit-function-declaration\u0007-Wimplicit-function-declaration\u001b]8;;\u0007\u001b[m\u001b[K]\n",
            "  148 |     \u001b[01;35m\u001b[KcudnnGetConvolutionForwardAlgorithm\u001b[m\u001b[K(cudnn_handle(),\n",
            "      |     \u001b[01;35m\u001b[K^~~~~~~~~~~~~~~~~~~~~~~~~~~~~~~~~~~\u001b[m\u001b[K\n",
            "      |     \u001b[32m\u001b[KcudnnGetConvolutionForwardAlgorithm_v7\u001b[m\u001b[K\n",
            "\u001b[01m\u001b[K./src/convolutional_layer.c:153:13:\u001b[m\u001b[K \u001b[01;31m\u001b[Kerror: \u001b[m\u001b[K‘\u001b[01m\u001b[KCUDNN_CONVOLUTION_FWD_SPECIFY_WORKSPACE_LIMIT\u001b[m\u001b[K’ undeclared (first use in this function)\n",
            "  153 |             \u001b[01;31m\u001b[KCUDNN_CONVOLUTION_FWD_SPECIFY_WORKSPACE_LIMIT\u001b[m\u001b[K,\n",
            "      |             \u001b[01;31m\u001b[K^~~~~~~~~~~~~~~~~~~~~~~~~~~~~~~~~~~~~~~~~~~~~\u001b[m\u001b[K\n",
            "compilation terminated due to -Wfatal-errors.\n",
            "make: *** [Makefile:89: obj/convolutional_layer.o] Error 1\n"
          ]
        }
      ]
    },
    {
      "cell_type": "code",
      "source": [
        "!./darknet\n"
      ],
      "metadata": {
        "colab": {
          "base_uri": "https://localhost:8080/"
        },
        "id": "BZBXoi3TWAWI",
        "outputId": "fef727dc-9014-4583-c928-8fcf37d3a50e"
      },
      "execution_count": null,
      "outputs": [
        {
          "output_type": "stream",
          "name": "stdout",
          "text": [
            "/bin/bash: line 1: ./darknet: Is a directory\n"
          ]
        }
      ]
    },
    {
      "cell_type": "code",
      "source": [
        "!git clone https://github.com/cocodataset/cocoapi.git\n",
        "!pip install -e .\n"
      ],
      "metadata": {
        "colab": {
          "base_uri": "https://localhost:8080/"
        },
        "id": "J9cyhY66KMgL",
        "outputId": "49cceb5e-f0f7-43fb-b397-f1ddd23df1ee"
      },
      "execution_count": null,
      "outputs": [
        {
          "output_type": "stream",
          "name": "stdout",
          "text": [
            "Cloning into 'cocoapi'...\n",
            "remote: Enumerating objects: 975, done.\u001b[K\n",
            "remote: Total 975 (delta 0), reused 0 (delta 0), pack-reused 975 (from 1)\u001b[K\n",
            "Receiving objects: 100% (975/975), 11.72 MiB | 26.16 MiB/s, done.\n",
            "Resolving deltas: 100% (576/576), done.\n",
            "Obtaining file:///content\n",
            "\u001b[31mERROR: file:///content does not appear to be a Python project: neither 'setup.py' nor 'pyproject.toml' found.\u001b[0m\u001b[31m\n",
            "\u001b[0m"
          ]
        }
      ]
    },
    {
      "cell_type": "code",
      "source": [
        "!ls"
      ],
      "metadata": {
        "colab": {
          "base_uri": "https://localhost:8080/"
        },
        "id": "nirCLje9CvFp",
        "outputId": "901bccd6-8950-4c5a-8d9f-bbd39961a80d"
      },
      "execution_count": null,
      "outputs": [
        {
          "output_type": "stream",
          "name": "stdout",
          "text": [
            "cocoapi  darknet  drive  sample_data  yolov3-spp.cfg  yolov3.weights\n"
          ]
        }
      ]
    },
    {
      "cell_type": "code",
      "source": [
        "!cd cocoapi/PythonAPI\n"
      ],
      "metadata": {
        "id": "bAEjWYy4KaMD"
      },
      "execution_count": null,
      "outputs": []
    },
    {
      "cell_type": "code",
      "source": [
        "!mkdir -p data/coco/train2014\n",
        "!mkdir -p data/coco/val2014\n",
        "\n",
        "\n"
      ],
      "metadata": {
        "id": "t06k5ASnYUCM"
      },
      "execution_count": null,
      "outputs": []
    },
    {
      "cell_type": "code",
      "source": [
        "from pycocotools.coco import COCO\n",
        "\n",
        "# Caminho para o arquivo de anotações\n",
        "#!wget http://images.cocodataset.org/zips/val2014.zip\n",
        "#!wget http://images.cocodataset.org/zips/train2014.zip\n",
        "#!wget http://images.cocodataset.org/annotations/annotations_trainval2014.zip\n",
        "#!wget http://images.cocodataset.org/annotations/image_info_test2014.zip\n",
        "\n",
        "\n",
        "# Inicializa o COCO\n",
        "#coco = COCO(annotation_file)\n",
        "\n"
      ],
      "metadata": {
        "id": "pWCutam8H2P-"
      },
      "execution_count": null,
      "outputs": []
    },
    {
      "cell_type": "code",
      "source": [
        "import os\n",
        "\n",
        "# Definir os caminhos base para as pastas\n",
        "base_path = \"/content/data/coco\"  # Caminho onde os dados estão\n",
        "train_dir = os.path.join(base_path, \"train2014\")  # Pasta de treinamento\n",
        "val_dir = os.path.join(base_path, \"val2014\")  # Pasta de validação\n",
        "\n",
        "# Garantir que as pastas existem (se não existirem, criar)\n",
        "if not os.path.exists(train_dir):\n",
        "    os.makedirs(train_dir)\n",
        "\n",
        "if not os.path.exists(val_dir):\n",
        "    os.makedirs(val_dir)\n",
        "\n",
        "# Descompactar os arquivos zip para as pastas corretas\n",
        "print(\"Descompactando os arquivos ZIP...\")\n",
        "!unzip train2014.zip -d {train_dir}  # Extrai o ZIP do treinamento\n",
        "!unzip val2014.zip -d {val_dir}  # Extrai o ZIP da validação\n",
        "print(\"Descompactação concluída!\")\n",
        "\n",
        "# Listar os arquivos dentro das pastas\n",
        "print(\"Listando os arquivos de treinamento...\")\n",
        "train_images = []\n",
        "for img in os.listdir(train_dir):  # Percorrer todos os itens na pasta\n",
        "    if os.path.isfile(os.path.join(train_dir, img)):  # Verificar se é um arquivo\n",
        "        train_images.append(os.path.join(train_dir, img))  # Adicionar à lista\n",
        "\n",
        "print(\"Listando os arquivos de validação...\")\n",
        "val_images = []\n",
        "for img in os.listdir(val_dir):  # Percorrer todos os itens na pasta\n",
        "    if os.path.isfile(os.path.join(val_dir, img)):  # Verificar se é um arquivo\n",
        "        val_images.append(os.path.join(val_dir, img))  # Adicionar à lista\n",
        "\n",
        "# Mostrar os primeiros arquivos para conferir\n",
        "print(\"Primeiros arquivos de treinamento:\", train_images[:5])\n",
        "print(\"Primeiros arquivos de validação:\", val_images[:5])\n",
        "\n"
      ],
      "metadata": {
        "colab": {
          "base_uri": "https://localhost:8080/"
        },
        "id": "4rd1C0JRrzAm",
        "outputId": "51ea6cbc-46f4-44f9-e663-b29bba600734"
      },
      "execution_count": null,
      "outputs": [
        {
          "output_type": "stream",
          "name": "stdout",
          "text": [
            "Descompactando os arquivos ZIP...\n",
            "unzip:  cannot find or open train2014.zip, train2014.zip.zip or train2014.zip.ZIP.\n",
            "unzip:  cannot find or open val2014.zip, val2014.zip.zip or val2014.zip.ZIP.\n",
            "Descompactação concluída!\n",
            "Listando os arquivos de treinamento...\n",
            "Listando os arquivos de validação...\n",
            "Primeiros arquivos de treinamento: []\n",
            "Primeiros arquivos de validação: []\n"
          ]
        }
      ]
    },
    {
      "cell_type": "markdown",
      "source": [
        "##Depois de configurar e arrumar as pastas manualmente, vamos treinar o modelo"
      ],
      "metadata": {
        "id": "7jJ98cEk_F7Z"
      }
    },
    {
      "cell_type": "code",
      "source": [
        "#treinar o modelo utilizando darknetyolov3\n",
        "!cd darknet && ./darknet detector train data/coco.data cfg/yolov3.cfg yolov3.weights -dont_show\n"
      ],
      "metadata": {
        "colab": {
          "base_uri": "https://localhost:8080/"
        },
        "id": "y1UkPbzTsCIF",
        "outputId": "2266b9cc-a203-4d02-f118-c2d90b16cf1a"
      },
      "execution_count": null,
      "outputs": [
        {
          "output_type": "stream",
          "name": "stdout",
          "text": [
            "/bin/bash: line 1: ./darknet: No such file or directory\n"
          ]
        }
      ]
    },
    {
      "cell_type": "code",
      "source": [
        "#ver resultado\n",
        "!tail -n 50 log.txt\n"
      ],
      "metadata": {
        "colab": {
          "base_uri": "https://localhost:8080/"
        },
        "id": "6KdMFiYov_Rf",
        "outputId": "5e59958a-48c2-450d-e49a-e85ae5f03244"
      },
      "execution_count": null,
      "outputs": [
        {
          "output_type": "stream",
          "name": "stdout",
          "text": [
            "tail: cannot open 'log.txt' for reading: No such file or directory\n"
          ]
        }
      ]
    },
    {
      "cell_type": "code",
      "source": [
        "#avaliar o modelo\n",
        "!cd darknet && ./darknet detector map data/coco.data cfg/yolov3.cfg backup/yolov3_final.weights\n"
      ],
      "metadata": {
        "colab": {
          "base_uri": "https://localhost:8080/"
        },
        "id": "mzJUdocZwXwl",
        "outputId": "7070139e-70de-4a94-b83a-8ae76f02f4c3"
      },
      "execution_count": null,
      "outputs": [
        {
          "output_type": "stream",
          "name": "stdout",
          "text": [
            "/bin/bash: line 1: ./darknet: No such file or directory\n"
          ]
        }
      ]
    },
    {
      "cell_type": "code",
      "source": [
        "#inferencia do modelo\n",
        "!cd darknet && ./darknet detector test data/coco.data cfg/yolov3.cfg backup/yolov3_final.weights path/to/image.jpg\n"
      ],
      "metadata": {
        "colab": {
          "base_uri": "https://localhost:8080/"
        },
        "id": "B62Gv2yBwj1o",
        "outputId": "08ac838a-179d-4f9b-a06d-2f60fb9d3445"
      },
      "execution_count": null,
      "outputs": [
        {
          "output_type": "stream",
          "name": "stdout",
          "text": [
            "/bin/bash: line 1: ./darknet: No such file or directory\n"
          ]
        }
      ]
    }
  ]
}